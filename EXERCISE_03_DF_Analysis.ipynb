{
 "cells": [
  {
   "cell_type": "markdown",
   "id": "04b3f624",
   "metadata": {},
   "source": [
    "# DataFrame Analysis Exercise\n",
    "\n",
    "**Import the `bestsellers.csv` dataset and use it to answer the following questions:**\n",
    "\n",
    "* 1. Find the lowest User Rating in the DF\n",
    "* 2. Find the highest Price in the DF\n",
    "* 3. What is the average User Rating?\n",
    "* 4. What the average User Rating of the first 5 rows?\n",
    "* 5. What User Review score appeared the most?\n",
    "* 6. What is the total (sum) of all the values in the Reviews column?\n",
    "* 7. How many different authors are featured in the dataset?\n",
    "* 8. Which author wrote the most number of books on the list?  How many did they write?"
   ]
  },
  {
   "cell_type": "code",
   "execution_count": 61,
   "id": "dd59400c",
   "metadata": {},
   "outputs": [
    {
     "data": {
      "text/plain": [
       "Name           12\n",
       "Author          1\n",
       "User Rating     3\n",
       "Reviews        12\n",
       "Price           7\n",
       "Year           11\n",
       "Genre           1\n",
       "dtype: int64"
      ]
     },
     "execution_count": 61,
     "metadata": {},
     "output_type": "execute_result"
    }
   ],
   "source": [
    "import pandas as pd\n",
    "books = pd.read_csv(\"bestsellers.csv\")\n",
    "# 1.\n",
    "books.min() # 3.3\n",
    "# 2.\n",
    "books.max() # 105\n",
    "# 3.\n",
    "books.mean(numeric_only=True) # 4.618364\n",
    "# 4.\n",
    "us_5 = books[\"User Rating\"].head(5).mean()\n",
    "us_5 # 4.7\n",
    "# 5.\n",
    "books.groupby(\"Reviews\").size().idxmax()\n",
    "# 6.\n",
    "books[\"Reviews\"].sum()\n",
    "# 7.\n",
    "books.groupby(\"Author\").size().sum()\n",
    "# 8.\n",
    "books.groupby(\"Author\").size().idxmax()\n",
    "books[books[\"Author\"] == \"Jeff Kinney\"].nunique()"
   ]
  }
 ],
 "metadata": {
  "kernelspec": {
   "display_name": "Python 3 (ipykernel)",
   "language": "python",
   "name": "python3"
  },
  "language_info": {
   "codemirror_mode": {
    "name": "ipython",
    "version": 3
   },
   "file_extension": ".py",
   "mimetype": "text/x-python",
   "name": "python",
   "nbconvert_exporter": "python",
   "pygments_lexer": "ipython3",
   "version": "3.9.7"
  }
 },
 "nbformat": 4,
 "nbformat_minor": 5
}
